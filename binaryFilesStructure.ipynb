{
 "cells": [
  {
   "cell_type": "markdown",
   "metadata": {},
   "source": [
    "# Binary files structure\n",
    "This notebook investigates the structure of the binary `raw` files. The experimental file is in the `./data` directory. The structure of the binary files is:\n",
    "\n",
    "- events (217 bytes)\n",
    "  - *detector number* - 1 byte\n",
    "\t- *header 0* (`fff0`) - 2 bytes\n",
    "\t- *header 1* - 2 bytes\n",
    "\t- *data length* - 2 bytes\n",
    "\t- *d0 ... dn* - 200 bytes\n",
    "\t- *time 0, 1, 2* - 6 bytes\n",
    "\t- *lost events* - 2 bytes\n",
    "\t- *checksum* - 2 bytes\n",
    "Note: There probably exists some optimalization of the code below. Still searching for the right library function to use."
   ]
  },
  {
   "cell_type": "code",
   "execution_count": 1,
   "metadata": {},
   "outputs": [],
   "source": [
    "# importing libraries\n",
    "import numpy as np\n",
    "import matplotlib.pyplot as pp\n",
    "\n",
    "raw_file = './data/data_2024-01-04_11_12_09_658.raw'        # defining file path"
   ]
  },
  {
   "cell_type": "code",
   "execution_count": 2,
   "metadata": {},
   "outputs": [],
   "source": [
    "with open(raw_file, 'rb') as f:\n",
    "    hexdata = f.read().hex()    # opening the file as hex code"
   ]
  },
  {
   "cell_type": "code",
   "execution_count": 3,
   "metadata": {},
   "outputs": [
    {
     "data": {
      "text/plain": [
       "'e50000432d3afff00c0f00648503884a8ade8cec8ece91379300943b956895f8964d964996169575953994bf9434937992dd'"
      ]
     },
     "execution_count": 3,
     "metadata": {},
     "output_type": "execute_result"
    }
   ],
   "source": [
    "hexdata[:100]                   # showing first 100 chars"
   ]
  },
  {
   "cell_type": "code",
   "execution_count": 4,
   "metadata": {},
   "outputs": [
    {
     "name": "stdout",
     "output_type": "stream",
     "text": [
      "12\n"
     ]
    }
   ],
   "source": [
    "first_header=-1     # -1 while the index could possibly be on position 0\n",
    "checkedByte=0           # the iterated variable in the cycle below\n",
    "while first_header==-1:     # = while the first header not found\n",
    "    if hexdata[checkedByte:checkedByte+4] == 'fff0':     # searching first header in the file\n",
    "        first_header = checkedByte                      # saving the found position if lucky\n",
    "    checkedByte += 1       # adding 1 to continue the search for header\n",
    "print(first_header)"
   ]
  },
  {
   "cell_type": "code",
   "execution_count": 5,
   "metadata": {},
   "outputs": [],
   "source": [
    "class Event:\n",
    "    # class for parsing one event in file\n",
    "\n",
    "    def __init__(self, data, start_byte):\n",
    "        \"\"\"\n",
    "        Initialization. The hex data (str) and the start byte (int) needed.\n",
    "        \"\"\"\n",
    "        self.position = start_byte      # saving the position to object for better access from outside\n",
    "        self.parse_from_binary(data)    # calling the parsing function - to be clearer\n",
    "    \n",
    "    def parse_from_binary(self, data):\n",
    "\n",
    "        # check header - 2 bytes\n",
    "        if data[self.position:self.position+4] != 'fff0':\n",
    "            print('Error: Can not create event, header not found')      # the position is probably wrong\n",
    "        \n",
    "        # detector code\n",
    "        self.detector = int(data[self.position-2:self.position], 16)    # on byte (=> two letters) before the header\n",
    "\n",
    "        # header1 - 2 bytes\n",
    "        self.h1 = int(data[self.position+4:self.position+8], 16)\n",
    "\n",
    "        # number of samples - 2 bytes\n",
    "        self.length = int(data[self.position+8:self.position+12], 16)\n",
    "        \n",
    "        # now parse data\n",
    "        self.samples = []   # preparing array\n",
    "        for i in range(self.length):\n",
    "            self.samples.append(int(data[4*i + self.position + 12 : 4*i + self.position + 16], 16))     # leaps over 4 letters = 2 bytes\n",
    "        self.samples = np.array(self.samples)      # for better manipulation\n",
    "\n",
    "        # times\n",
    "        self.t1 = int(data[self.position + 4*self.length + 12 : self.position + 4*self.length + 16], 16)    # see the event structure\n",
    "        self.t2 = int(data[self.position + 4*self.length + 16 : self.position + 4*self.length + 20], 16)    # I wasn't fixing 100 as default samples length\n",
    "        self.t3 = int(data[self.position + 4*self.length + 20 : self.position + 4*self.length + 24], 16)\n",
    "\n",
    "        # lost events & checksum\n",
    "        self.lost_events = int(data[self.position + 4*self.length + 24 : self.position + 4*self.length + 28], 16)\n",
    "        self.checksum = int(data[self.position + 4*self.length + 28 : self.position + 4*self.length + 32], 16)\n",
    "        \n",
    "        # check the next event header (the two bytes before are the detector number)\n",
    "        if data[self.position + 4*self.length + 34 : self.position + 4*self.length + 38]!='fff0':\n",
    "            print(f\"Warning: the next event not found (instead: {data[self.position + 4*self.length + 34 : self.position + 4*self.length + 38]})\")"
   ]
  },
  {
   "cell_type": "code",
   "execution_count": 6,
   "metadata": {},
   "outputs": [
    {
     "data": {
      "text/plain": [
       "Text(0.5, 1.0, 'Event 42')"
      ]
     },
     "execution_count": 6,
     "metadata": {},
     "output_type": "execute_result"
    },
    {
     "data": {
      "image/png": "[encoded data removed]",
      "text/plain": [
       "<Figure size 640x480 with 1 Axes>"
      ]
     },
     "metadata": {},
     "output_type": "display_data"
    }
   ],
   "source": [
    "nth_event = 42                         # the nth event to plot\n",
    "e_n = Event(hexdata, 12+nth_event*434)  # creating an instance\n",
    "pp.plot(e_n.samples)                    # plotting parsed data\n",
    "pp.title(f\"Event {nth_event}\")"
   ]
  },
  {
   "cell_type": "code",
   "execution_count": 7,
   "metadata": {},
   "outputs": [
    {
     "data": {
      "text/plain": [
       "78"
      ]
     },
     "execution_count": 7,
     "metadata": {},
     "output_type": "execute_result"
    }
   ],
   "source": [
    "# other values are accessible similarly:\n",
    "e_n.detector"
   ]
  }
 ],
 "metadata": {
  "kernelspec": {
   "display_name": "base",
   "language": "python",
   "name": "python3"
  },
  "language_info": {
   "codemirror_mode": {
    "name": "ipython",
    "version": 3
   },
   "file_extension": ".py",
   "mimetype": "text/x-python",
   "name": "python",
   "nbconvert_exporter": "python",
   "pygments_lexer": "ipython3",
   "version": "3.12.2"
  }
 },
 "nbformat": 4,
 "nbformat_minor": 2
}
